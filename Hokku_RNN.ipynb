{
  "nbformat": 4,
  "nbformat_minor": 0,
  "metadata": {
    "colab": {
      "provenance": [],
      "authorship_tag": "ABX9TyOUvu7dux/n+j7zS9oCLkhj",
      "include_colab_link": true
    },
    "kernelspec": {
      "name": "python3",
      "display_name": "Python 3"
    },
    "language_info": {
      "name": "python"
    }
  },
  "cells": [
    {
      "cell_type": "markdown",
      "metadata": {
        "id": "view-in-github",
        "colab_type": "text"
      },
      "source": [
        "<a href=\"https://colab.research.google.com/github/yudintsev-sergey/Neyro/blob/main/Hokku_RNN.ipynb\" target=\"_parent\"><img src=\"https://colab.research.google.com/assets/colab-badge.svg\" alt=\"Open In Colab\"/></a>"
      ]
    },
    {
      "cell_type": "markdown",
      "source": [
        "**RNN-сеть для генерации \"заготовок\" для хайку**"
      ],
      "metadata": {
        "id": "Ntl3yFn3Gcoe"
      }
    },
    {
      "cell_type": "markdown",
      "source": [
        "Отключаем GPU"
      ],
      "metadata": {
        "id": "19kKIt_yYsJg"
      }
    },
    {
      "cell_type": "code",
      "execution_count": 59,
      "metadata": {
        "id": "BnDDpi_yGRJR"
      },
      "outputs": [],
      "source": [
        "import os\n",
        "os.environ['TF_CPP_MIN_LOG_LEVEL'] = '2'"
      ]
    },
    {
      "cell_type": "markdown",
      "source": [
        "Импортируем библиотеки"
      ],
      "metadata": {
        "id": "ISZlCs-vGu2n"
      }
    },
    {
      "cell_type": "code",
      "source": [
        "import numpy as np\n",
        "\n",
        "from tensorflow.keras.layers import Dense, SimpleRNN, Input, Embedding\n",
        "from tensorflow.keras.models import Sequential\n",
        "from tensorflow.keras.preprocessing.text import Tokenizer, text_to_word_sequence\n",
        "from tensorflow.keras.utils import to_categorical"
      ],
      "metadata": {
        "id": "Io3dyPfgGzbR"
      },
      "execution_count": 60,
      "outputs": []
    },
    {
      "cell_type": "markdown",
      "source": [
        "Подключаем диск"
      ],
      "metadata": {
        "id": "oUpCWDHYHqM8"
      }
    },
    {
      "cell_type": "code",
      "source": [
        "from google.colab import drive\n",
        "drive.mount(\"/ShardDrives/\")\n",
        "\n",
        "os.chdir('/ShardDrives/MyDrive/Colab Notebooks/Hokku/')"
      ],
      "metadata": {
        "colab": {
          "base_uri": "https://localhost:8080/"
        },
        "id": "IayvxV6_HtgV",
        "outputId": "769b4261-c8c6-4096-c0d1-8594e24a5469"
      },
      "execution_count": 61,
      "outputs": [
        {
          "output_type": "stream",
          "name": "stdout",
          "text": [
            "Drive already mounted at /ShardDrives/; to attempt to forcibly remount, call drive.mount(\"/ShardDrives/\", force_remount=True).\n"
          ]
        }
      ]
    },
    {
      "cell_type": "markdown",
      "source": [
        "Читаем текст"
      ],
      "metadata": {
        "id": "Bz4TUy3EHAZm"
      }
    },
    {
      "cell_type": "code",
      "source": [
        "with open('hokku.txt', 'r', encoding='utf-8') as f:\n",
        "    texts = f.read()\n",
        "    texts = texts.replace('\\ufeff', '')  # убираем первый невидимый символ"
      ],
      "metadata": {
        "id": "e4SZAtk7HCzC"
      },
      "execution_count": 62,
      "outputs": []
    },
    {
      "cell_type": "markdown",
      "source": [
        "Разбиваем на слова"
      ],
      "metadata": {
        "id": "2olR2KkfKooO"
      }
    },
    {
      "cell_type": "code",
      "source": [
        "maxWordsCount = 1000\n",
        "tokenizer = Tokenizer(num_words=maxWordsCount, filters='!–\"—#$%&amp;()*+,-./:;<=>?@[\\\\]^_`{|}~\\t\\n\\r«»',\n",
        "                      lower=True, split=' ', char_level=False)\n",
        "tokenizer.fit_on_texts([texts])"
      ],
      "metadata": {
        "id": "HKGzAGupKueB"
      },
      "execution_count": 63,
      "outputs": []
    },
    {
      "cell_type": "markdown",
      "source": [
        "Проверяем просто что получилось (печатаем для примера начало списка). Цифры - частотность слова."
      ],
      "metadata": {
        "id": "LchPI7VPKz11"
      }
    },
    {
      "cell_type": "code",
      "source": [
        "dist = list(tokenizer.word_counts.items())\n",
        "print(dist[:10])"
      ],
      "metadata": {
        "colab": {
          "base_uri": "https://localhost:8080/"
        },
        "id": "Q-Spcip6K1tj",
        "outputId": "959e551b-1a30-4b93-93fb-df99d07ae218"
      },
      "execution_count": 64,
      "outputs": [
        {
          "output_type": "stream",
          "name": "stdout",
          "text": [
            "[('на', 27), ('голой', 1), ('ветке', 2), ('ворон', 1), ('сидит', 1), ('одиноко', 2), ('осенний', 3), ('вечер', 3), ('в', 31), ('небе', 1)]\n"
          ]
        }
      ]
    },
    {
      "cell_type": "markdown",
      "source": [
        "Конвертируем текст в последовательность индексов слов, которые входят в текст"
      ],
      "metadata": {
        "id": "KqBJpA9cOVX2"
      }
    },
    {
      "cell_type": "code",
      "source": [
        "data = tokenizer.texts_to_sequences([texts])\n",
        "res = np.array( data[0] )\n",
        "\n",
        "inp_words = 3\n",
        "n = res.shape[0] - inp_words\n",
        "\n",
        "X = np.array([res[i:i + inp_words] for i in range(n)])\n",
        "Y = to_categorical(res[inp_words:], num_classes=maxWordsCount)"
      ],
      "metadata": {
        "id": "7WndrZlzOWwR"
      },
      "execution_count": 65,
      "outputs": []
    },
    {
      "cell_type": "markdown",
      "source": [
        "Строим модель и компилируем ее"
      ],
      "metadata": {
        "id": "rWzS8TU9O8Y4"
      }
    },
    {
      "cell_type": "code",
      "source": [
        "model = Sequential()\n",
        "model.add(Embedding(maxWordsCount, 256, input_length = inp_words))\n",
        "model.add(SimpleRNN(128, activation='tanh'))\n",
        "model.add(Dense(maxWordsCount, activation='softmax'))\n",
        "model.summary()\n",
        "\n",
        "model.compile(loss='categorical_crossentropy', metrics=['accuracy'], optimizer='adam')"
      ],
      "metadata": {
        "colab": {
          "base_uri": "https://localhost:8080/"
        },
        "id": "UCai9arNO92W",
        "outputId": "b3def3b7-c606-4859-ab55-ed714a6ed313"
      },
      "execution_count": 66,
      "outputs": [
        {
          "output_type": "stream",
          "name": "stdout",
          "text": [
            "Model: \"sequential_1\"\n",
            "_________________________________________________________________\n",
            " Layer (type)                Output Shape              Param #   \n",
            "=================================================================\n",
            " embedding_1 (Embedding)     (None, 3, 256)            256000    \n",
            "                                                                 \n",
            " simple_rnn_1 (SimpleRNN)    (None, 128)               49280     \n",
            "                                                                 \n",
            " dense_1 (Dense)             (None, 1000)              129000    \n",
            "                                                                 \n",
            "=================================================================\n",
            "Total params: 434280 (1.66 MB)\n",
            "Trainable params: 434280 (1.66 MB)\n",
            "Non-trainable params: 0 (0.00 Byte)\n",
            "_________________________________________________________________\n"
          ]
        }
      ]
    },
    {
      "cell_type": "markdown",
      "source": [
        "Обучаем"
      ],
      "metadata": {
        "id": "jm8cQ3zlPXB4"
      }
    },
    {
      "cell_type": "code",
      "source": [
        "history = model.fit(X, Y, batch_size=32, epochs=50, verbose=0)"
      ],
      "metadata": {
        "id": "1YKqpThWPY4m"
      },
      "execution_count": 67,
      "outputs": []
    },
    {
      "cell_type": "markdown",
      "source": [
        "Функция построения (прогнозирования) фразы"
      ],
      "metadata": {
        "id": "nCBWhGjIPe_C"
      }
    },
    {
      "cell_type": "code",
      "source": [
        "def buildPhrase(texts, str_len=20):\n",
        "    res = texts\n",
        "    data = tokenizer.texts_to_sequences([texts])[0]\n",
        "    for i in range(str_len):\n",
        "        x = data[i: i + inp_words]\n",
        "        inp = np.expand_dims(x, axis=0)\n",
        "\n",
        "        pred = model.predict(inp)\n",
        "        indx = pred.argmax(axis=1)[0]\n",
        "        data.append(indx)\n",
        "\n",
        "        res += \" \" + tokenizer.index_word[indx]  # дописываем строку\n",
        "\n",
        "    return res\n"
      ],
      "metadata": {
        "id": "rFe-ady4PgC2"
      },
      "execution_count": 68,
      "outputs": []
    },
    {
      "cell_type": "markdown",
      "source": [
        "Найдем три случайные слова по случайным индексам в пределах 599 (длина словарной базы).\n",
        "Потом их можно скопировать и вставить в функцию buildPhrase()."
      ],
      "metadata": {
        "id": "dYgtNnutSZpB"
      }
    },
    {
      "cell_type": "code",
      "source": [
        "m = np.random.randint(599, size=3)\n",
        "print(dist[m[0]][0], dist[m[1]][0], dist[m[2]][0])"
      ],
      "metadata": {
        "colab": {
          "base_uri": "https://localhost:8080/"
        },
        "id": "3NuLo1UASf-R",
        "outputId": "a613407b-325d-4521-8bbe-c378ef687aea"
      },
      "execution_count": 69,
      "outputs": [
        {
          "output_type": "stream",
          "name": "stdout",
          "text": [
            "битвы брови остаешься\n"
          ]
        }
      ]
    },
    {
      "cell_type": "markdown",
      "source": [
        "Voila!"
      ],
      "metadata": {
        "id": "wHsufCQnPq-T"
      }
    },
    {
      "cell_type": "code",
      "source": [
        "res = buildPhrase(\"битвы брови остаешься\")\n",
        "print(res)"
      ],
      "metadata": {
        "colab": {
          "base_uri": "https://localhost:8080/"
        },
        "id": "XRktgscsPulT",
        "outputId": "932e45cc-187c-4b8f-9d80-6a02cef43d47"
      },
      "execution_count": 70,
      "outputs": [
        {
          "output_type": "stream",
          "name": "stdout",
          "text": [
            "1/1 [==============================] - 0s 149ms/step\n",
            "1/1 [==============================] - 0s 23ms/step\n",
            "1/1 [==============================] - 0s 23ms/step\n",
            "1/1 [==============================] - 0s 20ms/step\n",
            "1/1 [==============================] - 0s 21ms/step\n",
            "1/1 [==============================] - 0s 22ms/step\n",
            "1/1 [==============================] - 0s 21ms/step\n",
            "1/1 [==============================] - 0s 25ms/step\n",
            "1/1 [==============================] - 0s 21ms/step\n",
            "1/1 [==============================] - 0s 24ms/step\n",
            "1/1 [==============================] - 0s 22ms/step\n",
            "1/1 [==============================] - 0s 24ms/step\n",
            "1/1 [==============================] - 0s 25ms/step\n",
            "1/1 [==============================] - 0s 22ms/step\n",
            "1/1 [==============================] - 0s 23ms/step\n",
            "1/1 [==============================] - 0s 23ms/step\n",
            "1/1 [==============================] - 0s 21ms/step\n",
            "1/1 [==============================] - 0s 23ms/step\n",
            "1/1 [==============================] - 0s 21ms/step\n",
            "1/1 [==============================] - 0s 22ms/step\n",
            "битвы брови остаешься цветок грабитель две завял предостерег для летом снега тушью рядом вокруг сливы мой под людей глухой… свежий палубе деревню разлилась\n"
          ]
        }
      ]
    },
    {
      "cell_type": "markdown",
      "source": [
        "Из полученной абракадабры можно слепить хайку... Удачи!!! :0))"
      ],
      "metadata": {
        "id": "jnCjieTAWnH0"
      }
    }
  ]
}