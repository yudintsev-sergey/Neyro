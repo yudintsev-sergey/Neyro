{
  "nbformat": 4,
  "nbformat_minor": 0,
  "metadata": {
    "colab": {
      "provenance": [],
      "authorship_tag": "ABX9TyP+jsEvJ1p1Axf1bBqRB8D2",
      "include_colab_link": true
    },
    "kernelspec": {
      "name": "python3",
      "display_name": "Python 3"
    },
    "language_info": {
      "name": "python"
    }
  },
  "cells": [
    {
      "cell_type": "markdown",
      "metadata": {
        "id": "view-in-github",
        "colab_type": "text"
      },
      "source": [
        "<a href=\"https://colab.research.google.com/github/yudintsev-sergey/Neyro/blob/main/CNN_music_base.ipynb\" target=\"_parent\"><img src=\"https://colab.research.google.com/assets/colab-badge.svg\" alt=\"Open In Colab\"/></a>"
      ]
    },
    {
      "cell_type": "markdown",
      "source": [
        "Подключаем диск Google My Drive"
      ],
      "metadata": {
        "id": "RQX2hZe7a1PF"
      }
    },
    {
      "cell_type": "code",
      "source": [
        "from google.colab import drive\n",
        "drive.mount(\"/ShardDrives/\")"
      ],
      "metadata": {
        "colab": {
          "base_uri": "https://localhost:8080/"
        },
        "id": "SN0lmDKp7RGw",
        "outputId": "caa0f56b-1033-4d8b-9673-1427097721d1"
      },
      "execution_count": null,
      "outputs": [
        {
          "output_type": "stream",
          "name": "stdout",
          "text": [
            "Mounted at /ShardDrives/\n"
          ]
        }
      ]
    },
    {
      "cell_type": "markdown",
      "source": [
        "Подотовка баз для валидации, обучения и тестирования нейросети, которая\n",
        "должна опознавать музыкальные сэмплы в трех классах \"музыка без голоса\", \"соло голосом а-капелла\", \"хоровое многоголосие\".\n",
        "- импортируем необходимые библиотеки, в т.ч. librosa для работы с аудиофайлами\n",
        "- засекаем время старта программы\n",
        "- меняем директорию на My Drive"
      ],
      "metadata": {
        "id": "BhE8eO23ak0d"
      }
    },
    {
      "cell_type": "code",
      "source": [
        "import librosa\n",
        "import os\n",
        "import numpy as np\n",
        "import math as ma\n",
        "import time\n",
        "\n",
        "start = time.time()\n",
        "\n",
        "os.chdir('/ShardDrives/MyDrive/Colab Notebooks/Try/')"
      ],
      "metadata": {
        "id": "Xz3cta1acH4L"
      },
      "execution_count": null,
      "outputs": []
    },
    {
      "cell_type": "markdown",
      "source": [
        "Размерность общей базы определяется длиной вектора мел-кепстральных коэффициентов (16x16 = 256) + вектор признаков (3)"
      ],
      "metadata": {
        "id": "MGL4yh4xcRbz"
      }
    },
    {
      "cell_type": "code",
      "source": [
        "common_base = np.empty([0, 259], dtype=float)"
      ],
      "metadata": {
        "id": "-Adl_dTZctBk"
      },
      "execution_count": null,
      "outputs": []
    },
    {
      "cell_type": "markdown",
      "source": [
        "- Функция 'file_to_base' из аудиофайла сначала получает массив типа 'numpy array'\n",
        "- Затем из этого файла нарезаются короткие (1.4 сек) сэмплы\n",
        "- Далее - сэмплы свертываются до матрицы мел-кепстральных коэффициентов (характеристика тембра и вообще индивидуальности звука) размерности (16x16)\n",
        "- Далее - матрица \"вытягивается\" (reshape) в вектор-строку [256]\n",
        "- Далее - к вектору справа добавляется признак в виде [i, j, k], где i + j + k = 1, {i,j,k}={0,1}"
      ],
      "metadata": {
        "id": "m_1tX5Dsc2qc"
      }
    },
    {
      "cell_type": "code",
      "source": [
        "def file_to_base(filename, threeplet=[[1., 0., 0.]]):\n",
        "    global common_base\n",
        "    y, sr = librosa.load(filename)\n",
        "    drtn = librosa.get_duration(y=y, sr=sr)\n",
        "\n",
        "    off_s = 0.\n",
        "    while off_s < (drtn - 2):\n",
        "        y, sr = librosa.load(filename, offset=off_s, duration=1.4)\n",
        "        tmbr = librosa.feature.mfcc(y=y, sr=sr, n_fft=512, hop_length=2048, n_mfcc=16)\n",
        "        tmbr_lin = np.append(tmbr.reshape(1, 256), threeplet, axis=1)\n",
        "        common_base = np.append(common_base, tmbr_lin, axis=0)\n",
        "        off_s += 1.4\n",
        "    return common_base"
      ],
      "metadata": {
        "id": "ttDU7QPRd58A"
      },
      "execution_count": null,
      "outputs": []
    },
    {
      "cell_type": "markdown",
      "source": [
        "- Исполняем процедуру для выбранных файлов. Каждое очередное исполнение наращивает длину общей базы (common_base).\n",
        "- Файлы 'zero_.wav' - инструментальная музыка, голос человека отсутствует - признак [1., 0., 0.]\n",
        "- Файлы 'solo_.wav' - пение а-капелла - признак [0., 1., 0.]\n",
        "- Файлы 'chor_.wav' - хоровое многоголосие - признак [0., 0., 1.]\n",
        "- Суммарные длительности однотипных файлов примерно равны"
      ],
      "metadata": {
        "id": "XZRIep2qd-xH"
      }
    },
    {
      "cell_type": "code",
      "source": [
        "file_to_base('zero_0.wav', [[1., 0., 0.]])\n",
        "file_to_base('zero_1.wav', [[1., 0., 0.]])\n",
        "file_to_base('zero_2.wav', [[1., 0., 0.]])\n",
        "file_to_base('solo_0.wav', [[0., 1., 0.]])\n",
        "file_to_base('solo_1.wav', [[0., 1., 0.]])\n",
        "file_to_base('solo_2.wav', [[0., 1., 0.]])\n",
        "file_to_base('solo_0.wav', [[0., 1., 0.]])\n",
        "file_to_base('chor_0.wav', [[0., 0., 1.]])\n",
        "file_to_base('chor_3.wav', [[0., 0., 1.]])"
      ],
      "metadata": {
        "colab": {
          "base_uri": "https://localhost:8080/"
        },
        "id": "kpIgVg3keTz4",
        "outputId": "2ec7e5a7-7731-4284-e031-f82e95d566e8"
      },
      "execution_count": null,
      "outputs": [
        {
          "output_type": "execute_result",
          "data": {
            "text/plain": [
              "array([[-9.03776367e+02, -9.03776367e+02, -7.22747742e+02, ...,\n",
              "         1.00000000e+00,  0.00000000e+00,  0.00000000e+00],\n",
              "       [-3.76945343e+02, -3.72588043e+02, -3.20996704e+02, ...,\n",
              "         1.00000000e+00,  0.00000000e+00,  0.00000000e+00],\n",
              "       [-2.98167206e+02, -3.41024200e+02, -3.40618622e+02, ...,\n",
              "         1.00000000e+00,  0.00000000e+00,  0.00000000e+00],\n",
              "       ...,\n",
              "       [-7.88915161e+02, -8.08188660e+02, -8.06488953e+02, ...,\n",
              "         0.00000000e+00,  0.00000000e+00,  1.00000000e+00],\n",
              "       [-8.92409851e+02, -9.02881958e+02, -9.11314392e+02, ...,\n",
              "         0.00000000e+00,  0.00000000e+00,  1.00000000e+00],\n",
              "       [-9.47231689e+02, -1.03442847e+03, -9.88318848e+02, ...,\n",
              "         0.00000000e+00,  0.00000000e+00,  1.00000000e+00]])"
            ]
          },
          "metadata": {},
          "execution_count": 5
        }
      ]
    },
    {
      "cell_type": "markdown",
      "source": [
        "Перемешиваем строки базовой матрицы случайным образом"
      ],
      "metadata": {
        "id": "jQsgbaqKeZSc"
      }
    },
    {
      "cell_type": "code",
      "source": [
        "np.random.shuffle(common_base)"
      ],
      "metadata": {
        "id": "DFZqTnb7fo4m"
      },
      "execution_count": null,
      "outputs": []
    },
    {
      "cell_type": "markdown",
      "source": [
        "Строим 3-Д-матрицу мел-кепстральных коэффициентов (характеристики тембра)"
      ],
      "metadata": {
        "id": "4lymjs7Cfsu-"
      }
    },
    {
      "cell_type": "code",
      "source": [
        "arrays = [common_base[:, :256][i].reshape(16,16) for i in range(np.shape(common_base)[0])]\n",
        "tmbr_base = np.stack(arrays, axis=0)"
      ],
      "metadata": {
        "id": "ZgyNFeKBeg7u"
      },
      "execution_count": null,
      "outputs": []
    },
    {
      "cell_type": "markdown",
      "source": [
        "Строим матрицу признаков \"true\", которые индексированы с матрицей МКК"
      ],
      "metadata": {
        "id": "C1zvasgBShMZ"
      }
    },
    {
      "cell_type": "code",
      "source": [
        "true_base = common_base[:, 256:]"
      ],
      "metadata": {
        "id": "QZ3zMJDwSh_1"
      },
      "execution_count": null,
      "outputs": []
    },
    {
      "cell_type": "markdown",
      "source": [
        "Сохраняем базы данных"
      ],
      "metadata": {
        "id": "l3F7YEF9eqFz"
      }
    },
    {
      "cell_type": "code",
      "source": [
        "np.save('tmbr_base', tmbr_base)\n",
        "np.save('true_base', true_base)"
      ],
      "metadata": {
        "id": "VelXhBAXgKT1"
      },
      "execution_count": null,
      "outputs": []
    },
    {
      "cell_type": "markdown",
      "source": [
        "Измеряем время выполнения программы. Выводим справку"
      ],
      "metadata": {
        "id": "VGcorZZ9f0oV"
      }
    },
    {
      "cell_type": "code",
      "execution_count": null,
      "metadata": {
        "id": "YMPYumksm8eA"
      },
      "outputs": [],
      "source": [
        "# record end time\n",
        "end = time.time()\n",
        "# печатаем длительность работы алгоритма\n",
        "print(\"The time of execution of above program is :\", (end-start), \"сек\")\n",
        "\n",
        "# Справочные данные\n",
        "print('Размерность общего массива = ', np.shape(common_base))\n",
        "print('Число записей в базе мел-кепстральных к-тов (тембр) = ', np.shape(tmbr_base)[0])\n",
        "print('Число записей в базе признака \"true\" = ', np.shape(true_base)[0])\n",
        "print('Для примера первая запись в тембрах', tmbr_base[0])\n",
        "print('Для примера первая запись в признаках', true_base[0])\n",
        "print('Файлы np_array сохранены в родительской папке с расширением *.npy')\n"
      ]
    }
  ]
}